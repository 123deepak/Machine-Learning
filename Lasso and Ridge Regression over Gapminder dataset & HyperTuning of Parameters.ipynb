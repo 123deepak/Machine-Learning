{
 "cells": [
  {
   "cell_type": "code",
   "execution_count": 552,
   "metadata": {
    "collapsed": true
   },
   "outputs": [],
   "source": [
    "import pandas as pd\n",
    "import numpy as np\n",
    "from sklearn.model_selection import train_test_split\n",
    "from sklearn.model_selection import cross_val_score\n",
    "from sklearn.linear_model import LinearRegression\n",
    "from sklearn.linear_model import Lasso\n",
    "from sklearn.linear_model import Ridge\n",
    "import matplotlib.pyplot as plt\n",
    "from sklearn.model_selection import GridSearchCV\n",
    "np.set_printoptions(suppress=True)"
   ]
  },
  {
   "cell_type": "code",
   "execution_count": 553,
   "metadata": {},
   "outputs": [],
   "source": [
    "data = pd.read_csv('C:\\\\Users\\\\Deepak\\\\Downloads\\\\gapminder.csv')"
   ]
  },
  {
   "cell_type": "code",
   "execution_count": 554,
   "metadata": {},
   "outputs": [
    {
     "data": {
      "text/plain": [
       "population         float64\n",
       "fertility          float64\n",
       "HIV                float64\n",
       "CO2                float64\n",
       "BMI_male           float64\n",
       "GDP                float64\n",
       "BMI_female         float64\n",
       "life               float64\n",
       "child_mortality    float64\n",
       "Region              object\n",
       "dtype: object"
      ]
     },
     "execution_count": 554,
     "metadata": {},
     "output_type": "execute_result"
    }
   ],
   "source": [
    "data.dtypes"
   ]
  },
  {
   "cell_type": "code",
   "execution_count": 555,
   "metadata": {},
   "outputs": [
    {
     "data": {
      "text/html": [
       "<div>\n",
       "<style scoped>\n",
       "    .dataframe tbody tr th:only-of-type {\n",
       "        vertical-align: middle;\n",
       "    }\n",
       "\n",
       "    .dataframe tbody tr th {\n",
       "        vertical-align: top;\n",
       "    }\n",
       "\n",
       "    .dataframe thead th {\n",
       "        text-align: right;\n",
       "    }\n",
       "</style>\n",
       "<table border=\"1\" class=\"dataframe\">\n",
       "  <thead>\n",
       "    <tr style=\"text-align: right;\">\n",
       "      <th></th>\n",
       "      <th>population</th>\n",
       "      <th>fertility</th>\n",
       "      <th>HIV</th>\n",
       "      <th>CO2</th>\n",
       "      <th>BMI_male</th>\n",
       "      <th>GDP</th>\n",
       "      <th>BMI_female</th>\n",
       "      <th>life</th>\n",
       "      <th>child_mortality</th>\n",
       "      <th>Region</th>\n",
       "    </tr>\n",
       "  </thead>\n",
       "  <tbody>\n",
       "    <tr>\n",
       "      <th>0</th>\n",
       "      <td>34811059.0</td>\n",
       "      <td>2.73</td>\n",
       "      <td>0.1</td>\n",
       "      <td>3.328945</td>\n",
       "      <td>24.59620</td>\n",
       "      <td>12314.0</td>\n",
       "      <td>129.9049</td>\n",
       "      <td>75.3</td>\n",
       "      <td>29.5</td>\n",
       "      <td>Middle East &amp; North Africa</td>\n",
       "    </tr>\n",
       "    <tr>\n",
       "      <th>1</th>\n",
       "      <td>19842251.0</td>\n",
       "      <td>6.43</td>\n",
       "      <td>2.0</td>\n",
       "      <td>1.474353</td>\n",
       "      <td>22.25083</td>\n",
       "      <td>7103.0</td>\n",
       "      <td>130.1247</td>\n",
       "      <td>58.3</td>\n",
       "      <td>192.0</td>\n",
       "      <td>Sub-Saharan Africa</td>\n",
       "    </tr>\n",
       "    <tr>\n",
       "      <th>2</th>\n",
       "      <td>40381860.0</td>\n",
       "      <td>2.24</td>\n",
       "      <td>0.5</td>\n",
       "      <td>4.785170</td>\n",
       "      <td>27.50170</td>\n",
       "      <td>14646.0</td>\n",
       "      <td>118.8915</td>\n",
       "      <td>75.5</td>\n",
       "      <td>15.4</td>\n",
       "      <td>America</td>\n",
       "    </tr>\n",
       "    <tr>\n",
       "      <th>3</th>\n",
       "      <td>2975029.0</td>\n",
       "      <td>1.40</td>\n",
       "      <td>0.1</td>\n",
       "      <td>1.804106</td>\n",
       "      <td>25.35542</td>\n",
       "      <td>7383.0</td>\n",
       "      <td>132.8108</td>\n",
       "      <td>72.5</td>\n",
       "      <td>20.0</td>\n",
       "      <td>Europe &amp; Central Asia</td>\n",
       "    </tr>\n",
       "    <tr>\n",
       "      <th>4</th>\n",
       "      <td>21370348.0</td>\n",
       "      <td>1.96</td>\n",
       "      <td>0.1</td>\n",
       "      <td>18.016313</td>\n",
       "      <td>27.56373</td>\n",
       "      <td>41312.0</td>\n",
       "      <td>117.3755</td>\n",
       "      <td>81.5</td>\n",
       "      <td>5.2</td>\n",
       "      <td>East Asia &amp; Pacific</td>\n",
       "    </tr>\n",
       "  </tbody>\n",
       "</table>\n",
       "</div>"
      ],
      "text/plain": [
       "   population  fertility  HIV        CO2  BMI_male      GDP  BMI_female  life  \\\n",
       "0  34811059.0       2.73  0.1   3.328945  24.59620  12314.0    129.9049  75.3   \n",
       "1  19842251.0       6.43  2.0   1.474353  22.25083   7103.0    130.1247  58.3   \n",
       "2  40381860.0       2.24  0.5   4.785170  27.50170  14646.0    118.8915  75.5   \n",
       "3   2975029.0       1.40  0.1   1.804106  25.35542   7383.0    132.8108  72.5   \n",
       "4  21370348.0       1.96  0.1  18.016313  27.56373  41312.0    117.3755  81.5   \n",
       "\n",
       "   child_mortality                      Region  \n",
       "0             29.5  Middle East & North Africa  \n",
       "1            192.0          Sub-Saharan Africa  \n",
       "2             15.4                     America  \n",
       "3             20.0       Europe & Central Asia  \n",
       "4              5.2         East Asia & Pacific  "
      ]
     },
     "execution_count": 555,
     "metadata": {},
     "output_type": "execute_result"
    }
   ],
   "source": [
    "data.head(5)"
   ]
  },
  {
   "cell_type": "code",
   "execution_count": 556,
   "metadata": {
    "collapsed": true
   },
   "outputs": [],
   "source": [
    "data = data.drop(['Region'], axis =1)"
   ]
  },
  {
   "cell_type": "code",
   "execution_count": 557,
   "metadata": {},
   "outputs": [
    {
     "data": {
      "text/plain": [
       "population         0\n",
       "fertility          0\n",
       "HIV                0\n",
       "CO2                0\n",
       "BMI_male           0\n",
       "GDP                0\n",
       "BMI_female         0\n",
       "life               0\n",
       "child_mortality    0\n",
       "dtype: int64"
      ]
     },
     "execution_count": 557,
     "metadata": {},
     "output_type": "execute_result"
    }
   ],
   "source": [
    "data.isnull().sum()"
   ]
  },
  {
   "cell_type": "code",
   "execution_count": 558,
   "metadata": {
    "collapsed": true
   },
   "outputs": [],
   "source": [
    "X = data.drop(['life'], axis = 1)\n",
    "y = data.life"
   ]
  },
  {
   "cell_type": "code",
   "execution_count": 559,
   "metadata": {},
   "outputs": [
    {
     "data": {
      "text/html": [
       "<div>\n",
       "<style scoped>\n",
       "    .dataframe tbody tr th:only-of-type {\n",
       "        vertical-align: middle;\n",
       "    }\n",
       "\n",
       "    .dataframe tbody tr th {\n",
       "        vertical-align: top;\n",
       "    }\n",
       "\n",
       "    .dataframe thead th {\n",
       "        text-align: right;\n",
       "    }\n",
       "</style>\n",
       "<table border=\"1\" class=\"dataframe\">\n",
       "  <thead>\n",
       "    <tr style=\"text-align: right;\">\n",
       "      <th></th>\n",
       "      <th>population</th>\n",
       "      <th>fertility</th>\n",
       "      <th>HIV</th>\n",
       "      <th>CO2</th>\n",
       "      <th>BMI_male</th>\n",
       "      <th>GDP</th>\n",
       "      <th>BMI_female</th>\n",
       "      <th>child_mortality</th>\n",
       "    </tr>\n",
       "  </thead>\n",
       "  <tbody>\n",
       "    <tr>\n",
       "      <th>0</th>\n",
       "      <td>34811059.0</td>\n",
       "      <td>2.73</td>\n",
       "      <td>0.1</td>\n",
       "      <td>3.328945</td>\n",
       "      <td>24.59620</td>\n",
       "      <td>12314.0</td>\n",
       "      <td>129.9049</td>\n",
       "      <td>29.5</td>\n",
       "    </tr>\n",
       "    <tr>\n",
       "      <th>1</th>\n",
       "      <td>19842251.0</td>\n",
       "      <td>6.43</td>\n",
       "      <td>2.0</td>\n",
       "      <td>1.474353</td>\n",
       "      <td>22.25083</td>\n",
       "      <td>7103.0</td>\n",
       "      <td>130.1247</td>\n",
       "      <td>192.0</td>\n",
       "    </tr>\n",
       "    <tr>\n",
       "      <th>2</th>\n",
       "      <td>40381860.0</td>\n",
       "      <td>2.24</td>\n",
       "      <td>0.5</td>\n",
       "      <td>4.785170</td>\n",
       "      <td>27.50170</td>\n",
       "      <td>14646.0</td>\n",
       "      <td>118.8915</td>\n",
       "      <td>15.4</td>\n",
       "    </tr>\n",
       "    <tr>\n",
       "      <th>3</th>\n",
       "      <td>2975029.0</td>\n",
       "      <td>1.40</td>\n",
       "      <td>0.1</td>\n",
       "      <td>1.804106</td>\n",
       "      <td>25.35542</td>\n",
       "      <td>7383.0</td>\n",
       "      <td>132.8108</td>\n",
       "      <td>20.0</td>\n",
       "    </tr>\n",
       "    <tr>\n",
       "      <th>4</th>\n",
       "      <td>21370348.0</td>\n",
       "      <td>1.96</td>\n",
       "      <td>0.1</td>\n",
       "      <td>18.016313</td>\n",
       "      <td>27.56373</td>\n",
       "      <td>41312.0</td>\n",
       "      <td>117.3755</td>\n",
       "      <td>5.2</td>\n",
       "    </tr>\n",
       "  </tbody>\n",
       "</table>\n",
       "</div>"
      ],
      "text/plain": [
       "   population  fertility  HIV        CO2  BMI_male      GDP  BMI_female  \\\n",
       "0  34811059.0       2.73  0.1   3.328945  24.59620  12314.0    129.9049   \n",
       "1  19842251.0       6.43  2.0   1.474353  22.25083   7103.0    130.1247   \n",
       "2  40381860.0       2.24  0.5   4.785170  27.50170  14646.0    118.8915   \n",
       "3   2975029.0       1.40  0.1   1.804106  25.35542   7383.0    132.8108   \n",
       "4  21370348.0       1.96  0.1  18.016313  27.56373  41312.0    117.3755   \n",
       "\n",
       "   child_mortality  \n",
       "0             29.5  \n",
       "1            192.0  \n",
       "2             15.4  \n",
       "3             20.0  \n",
       "4              5.2  "
      ]
     },
     "execution_count": 559,
     "metadata": {},
     "output_type": "execute_result"
    }
   ],
   "source": [
    "X.head()"
   ]
  },
  {
   "cell_type": "code",
   "execution_count": 560,
   "metadata": {},
   "outputs": [
    {
     "data": {
      "text/plain": [
       "0    75.3\n",
       "1    58.3\n",
       "2    75.5\n",
       "3    72.5\n",
       "4    81.5\n",
       "Name: life, dtype: float64"
      ]
     },
     "execution_count": 560,
     "metadata": {},
     "output_type": "execute_result"
    }
   ],
   "source": [
    "y.head()"
   ]
  },
  {
   "cell_type": "code",
   "execution_count": 561,
   "metadata": {
    "collapsed": true
   },
   "outputs": [],
   "source": [
    "Training_Accuracy_Before = []\n",
    "Testing_Accuracy_Before = []\n",
    "Training_Accuracy_After = []\n",
    "Testing_Accuracy_After = []\n",
    "Models = ['Linear Regression', 'Lasso Regression', 'Ridge Regression']"
   ]
  },
  {
   "cell_type": "code",
   "execution_count": 562,
   "metadata": {
    "collapsed": true
   },
   "outputs": [],
   "source": [
    "X_train, X_test, y_train, y_test = train_test_split(X, y, test_size = 0.3, random_state = 42)"
   ]
  },
  {
   "cell_type": "code",
   "execution_count": 563,
   "metadata": {},
   "outputs": [
    {
     "name": "stdout",
     "output_type": "stream",
     "text": [
      "0.9076273328983272\n",
      "0.8380468731430055\n"
     ]
    }
   ],
   "source": [
    "logreg = LinearRegression()\n",
    "logreg.fit(X_train, y_train)\n",
    "\n",
    "train_score = logreg.score(X_train, y_train)\n",
    "print(train_score)\n",
    "test_score = logreg.score(X_test, y_test)\n",
    "print(test_score)\n",
    "\n",
    "Training_Accuracy_Before.append(train_score)\n",
    "Testing_Accuracy_Before.append(test_score)"
   ]
  },
  {
   "cell_type": "code",
   "execution_count": 564,
   "metadata": {},
   "outputs": [
    {
     "data": {
      "text/plain": [
       "array([0.0001    , 0.00013738, 0.00018874, 0.00025929, 0.00035622,\n",
       "       0.00048939, 0.00067234, 0.00092367, 0.00126896, 0.00174333,\n",
       "       0.00239503, 0.00329034, 0.00452035, 0.00621017, 0.00853168,\n",
       "       0.01172102, 0.01610262, 0.02212216, 0.03039195, 0.04175319,\n",
       "       0.05736153, 0.07880463, 0.10826367, 0.14873521, 0.20433597,\n",
       "       0.28072162, 0.38566204, 0.52983169, 0.72789538, 1.        ])"
      ]
     },
     "execution_count": 564,
     "metadata": {},
     "output_type": "execute_result"
    }
   ],
   "source": [
    "alpha_space = np.logspace(-4, 0, 30)   # Checking for alpha from .0001 to 1 and finding the best value for alpha\n",
    "alpha_space"
   ]
  },
  {
   "cell_type": "code",
   "execution_count": 565,
   "metadata": {
    "collapsed": true
   },
   "outputs": [],
   "source": [
    "ridge_scores = []\n",
    "ridge = Ridge(normalize = True)\n",
    "for alpha in alpha_space:\n",
    "    ridge.alpha = alpha\n",
    "    val = np.mean(cross_val_score(ridge, X, y, cv = 10))\n",
    "    ridge_scores.append(val)"
   ]
  },
  {
   "cell_type": "code",
   "execution_count": 566,
   "metadata": {
    "collapsed": true
   },
   "outputs": [],
   "source": [
    "lasso_scores = []\n",
    "lasso = Lasso(normalize = True)\n",
    "for alpha in alpha_space:\n",
    "    lasso.alpha = alpha\n",
    "    val = np.mean(cross_val_score(lasso, X, y, cv = 10))\n",
    "    lasso_scores.append(val)"
   ]
  },
  {
   "cell_type": "code",
   "execution_count": 567,
   "metadata": {},
   "outputs": [
    {
     "data": {
      "image/png": "[encoded data removed]",
      "text/plain": [
       "<matplotlib.figure.Figure at 0x2a942a3bd30>"
      ]
     },
     "metadata": {},
     "output_type": "display_data"
    }
   ],
   "source": [
    "plt.figure(figsize=(8, 8))\n",
    "plt.plot(alpha_space, ridge_scores, marker = 'D', label = \"Ridge\")\n",
    "plt.plot(alpha_space, lasso_scores, marker = 'D', label = \"Lasso\")\n",
    "plt.legend()\n",
    "plt.show()"
   ]
  },
  {
   "cell_type": "raw",
   "metadata": {},
   "source": [
    "Through above graph, we can see that accuracy reduces as value for alpha increases. But best value of alpha can be occupied using GridSearchCV with Cross Validation technique. As, in above chart, CV was not performed, hence we can't have confidence in what we are seeing."
   ]
  },
  {
   "cell_type": "code",
   "execution_count": 568,
   "metadata": {},
   "outputs": [
    {
     "name": "stdout",
     "output_type": "stream",
     "text": [
      "{'alpha': 1.7073526474706923e-05}\n",
      "0.8655732066102778\n"
     ]
    }
   ],
   "source": [
    "# Performing GridSearchCV with Cross Validation technique on Lasso Regression and finding the optimum value of alpha\n",
    "\n",
    "params = {'alpha': (np.logspace(-8, 8, 100))} # It will check from 1e-08 to 1e+08\n",
    "lasso = Lasso(normalize=True)\n",
    "lasso_model = GridSearchCV(lasso, params, cv = 10)\n",
    "lasso_model.fit(X_train, y_train)\n",
    "print(lasso_model.best_params_)\n",
    "print(lasso_model.best_score_)"
   ]
  },
  {
   "cell_type": "code",
   "execution_count": 569,
   "metadata": {},
   "outputs": [
    {
     "name": "stdout",
     "output_type": "stream",
     "text": [
      "0.9076273302855018\n",
      "0.838044476752477\n"
     ]
    }
   ],
   "source": [
    "# Using value of alpha as 0.0000171 to get best accuracy for Lasso Regression\n",
    "lasso = Lasso(alpha = 0.0000171, normalize = True)\n",
    "lasso.fit(X_train, y_train)\n",
    "\n",
    "train_score = lasso.score(X_train, y_train)\n",
    "print(train_score)\n",
    "test_score = lasso.score(X_test, y_test)\n",
    "print(test_score)\n",
    "\n",
    "Training_Accuracy_Before.append(train_score)\n",
    "Testing_Accuracy_Before.append(test_score)"
   ]
  },
  {
   "cell_type": "code",
   "execution_count": 570,
   "metadata": {},
   "outputs": [
    {
     "name": "stdout",
     "output_type": "stream",
     "text": [
      "{'alpha': 0.0200923300256505}\n",
      "0.8660284431833843\n"
     ]
    }
   ],
   "source": [
    "# Performing GridSearchCV with Cross Validation technique on Ridge Regression and finding the optimum value of alpha\n",
    "\n",
    "params = {'alpha': (np.logspace(-8, 8, 100))} # It will check from 1e-08 to 1e+08\n",
    "ridge = Ridge(normalize=True)\n",
    "ridge_model = GridSearchCV(ridge, params, cv = 10)\n",
    "ridge_model.fit(X_train, y_train)\n",
    "print(ridge_model.best_params_)\n",
    "print(ridge_model.best_score_)"
   ]
  },
  {
   "cell_type": "code",
   "execution_count": 571,
   "metadata": {},
   "outputs": [
    {
     "name": "stdout",
     "output_type": "stream",
     "text": [
      "0.9073753179908285\n",
      "0.8392240740796055\n"
     ]
    }
   ],
   "source": [
    "# Using value of alpha as 0.020092 to get best accuracy for Ridge Regression\n",
    "ridge = Ridge(alpha = 0.020092, normalize = True)\n",
    "ridge.fit(X_train, y_train)\n",
    "\n",
    "train_score = ridge.score(X_train, y_train)\n",
    "print(train_score)\n",
    "test_score = ridge.score(X_test, y_test)\n",
    "print(test_score)\n",
    "\n",
    "Training_Accuracy_Before.append(train_score)\n",
    "Testing_Accuracy_Before.append(test_score)"
   ]
  },
  {
   "cell_type": "code",
   "execution_count": 572,
   "metadata": {},
   "outputs": [
    {
     "data": {
      "text/plain": [
       "array([-0.        , -0.3307107 , -0.72121165, -0.14740159,  0.49313344,\n",
       "        0.00013774, -0.25241258, -0.0867224 ])"
      ]
     },
     "execution_count": 572,
     "metadata": {},
     "output_type": "execute_result"
    }
   ],
   "source": [
    "coefficients = lasso.coef_\n",
    "coefficients"
   ]
  },
  {
   "cell_type": "code",
   "execution_count": 573,
   "metadata": {},
   "outputs": [
    {
     "data": {
      "image/png": "[encoded data removed]",
      "text/plain": [
       "<matplotlib.figure.Figure at 0x2a9424e4470>"
      ]
     },
     "metadata": {},
     "output_type": "display_data"
    }
   ],
   "source": [
    "plt.figure(figsize = (10, 6))\n",
    "plt.plot(range(len(X_train.columns)), coefficients)\n",
    "plt.xticks(range(len(X_train.columns)), X_train.columns.values, rotation = 90)\n",
    "plt.show()"
   ]
  },
  {
   "cell_type": "code",
   "execution_count": 574,
   "metadata": {},
   "outputs": [
    {
     "data": {
      "text/plain": [
       "Index(['population', 'fertility', 'HIV', 'CO2', 'BMI_male', 'GDP',\n",
       "       'BMI_female', 'child_mortality'],\n",
       "      dtype='object')"
      ]
     },
     "execution_count": 574,
     "metadata": {},
     "output_type": "execute_result"
    }
   ],
   "source": [
    "X_train.columns"
   ]
  },
  {
   "cell_type": "raw",
   "metadata": {},
   "source": [
    "After looking at above features, we get to know that prevalent features are:\n",
    "    'fertility', 'HIV', 'CO2', 'BMI_male', 'GDP', 'BMI_female', 'child_mortality'"
   ]
  },
  {
   "cell_type": "code",
   "execution_count": 575,
   "metadata": {
    "collapsed": true
   },
   "outputs": [],
   "source": [
    "X = data[['fertility', 'HIV', 'CO2', 'BMI_male', 'GDP', 'BMI_female', 'child_mortality']]\n",
    "y = data.life"
   ]
  },
  {
   "cell_type": "code",
   "execution_count": 576,
   "metadata": {
    "collapsed": true
   },
   "outputs": [],
   "source": [
    "X_train, X_test, y_train, y_test = train_test_split(X, y, test_size = 0.3, random_state = 42)"
   ]
  },
  {
   "cell_type": "code",
   "execution_count": 577,
   "metadata": {},
   "outputs": [
    {
     "name": "stdout",
     "output_type": "stream",
     "text": [
      "0.9069672677078365\n",
      "0.8394410900130606\n"
     ]
    }
   ],
   "source": [
    "logreg = LinearRegression()\n",
    "logreg.fit(X_train, y_train)\n",
    "\n",
    "train_score = logreg.score(X_train, y_train)\n",
    "print(train_score)\n",
    "test_score = logreg.score(X_test, y_test)\n",
    "print(test_score)\n",
    "\n",
    "Training_Accuracy_After.append(train_score)\n",
    "Testing_Accuracy_After.append(test_score)"
   ]
  },
  {
   "cell_type": "code",
   "execution_count": 578,
   "metadata": {},
   "outputs": [
    {
     "name": "stdout",
     "output_type": "stream",
     "text": [
      "{'alpha': 0.0007054802310718645}\n",
      "0.8648782397932617\n"
     ]
    }
   ],
   "source": [
    "# Performing GridSearchCV with Cross Validation technique on Lasso Regression and finding the optimum value of alpha\n",
    "\n",
    "params = {'alpha': (np.logspace(-8, 8, 100))} # It will check from 1e-08 to 1e+08\n",
    "lasso = Lasso(normalize=True)\n",
    "lasso_model = GridSearchCV(lasso, params, cv = 10)\n",
    "lasso_model.fit(X_train, y_train)\n",
    "print(lasso_model.best_params_)\n",
    "print(lasso_model.best_score_)"
   ]
  },
  {
   "cell_type": "code",
   "execution_count": 579,
   "metadata": {},
   "outputs": [
    {
     "name": "stdout",
     "output_type": "stream",
     "text": [
      "0.9069628384513525\n",
      "0.8393625881990662\n"
     ]
    }
   ],
   "source": [
    "# Using value of alpha as 0.000705 to get best accuracy for Lasso Regression\n",
    "lasso = Lasso(alpha = 0.000705, normalize = True)\n",
    "lasso.fit(X_train, y_train)\n",
    "\n",
    "train_score = lasso.score(X_train, y_train)\n",
    "print(train_score)\n",
    "test_score = lasso.score(X_test, y_test)\n",
    "print(test_score)\n",
    "\n",
    "Training_Accuracy_After.append(train_score)\n",
    "Testing_Accuracy_After.append(test_score)"
   ]
  },
  {
   "cell_type": "code",
   "execution_count": 580,
   "metadata": {},
   "outputs": [
    {
     "name": "stdout",
     "output_type": "stream",
     "text": [
      "{'alpha': 0.0200923300256505}\n",
      "0.8653018980345291\n"
     ]
    }
   ],
   "source": [
    "# Performing GridSearchCV with Cross Validation technique on Ridge Regression and finding the optimum value of alpha\n",
    "\n",
    "params = {'alpha': (np.logspace(-8, 8, 100))} # It will check from 1e-08 to 1e+08\n",
    "ridge = Ridge(normalize=True)\n",
    "ridge_model = GridSearchCV(ridge, params, cv = 10)\n",
    "ridge_model.fit(X_train, y_train)\n",
    "print(ridge_model.best_params_)\n",
    "print(ridge_model.best_score_)"
   ]
  },
  {
   "cell_type": "code",
   "execution_count": 581,
   "metadata": {},
   "outputs": [
    {
     "name": "stdout",
     "output_type": "stream",
     "text": [
      "0.9066991670109754\n",
      "0.8406824107198346\n"
     ]
    }
   ],
   "source": [
    "# Using value of alpha as 0.020092 to get best accuracy for Ridge Regression\n",
    "ridge = Ridge(alpha = 0.020092, normalize = True)\n",
    "ridge.fit(X_train, y_train)\n",
    "\n",
    "train_score = ridge.score(X_train, y_train)\n",
    "print(train_score)\n",
    "test_score = ridge.score(X_test, y_test)\n",
    "print(test_score)\n",
    "\n",
    "Training_Accuracy_After.append(train_score)\n",
    "Testing_Accuracy_After.append(test_score)"
   ]
  },
  {
   "cell_type": "code",
   "execution_count": 582,
   "metadata": {},
   "outputs": [
    {
     "data": {
      "image/png": "[encoded data removed]",
      "text/plain": [
       "<matplotlib.figure.Figure at 0x2a9410c2240>"
      ]
     },
     "metadata": {},
     "output_type": "display_data"
    }
   ],
   "source": [
    "plt.plot(Training_Accuracy_Before, label = 'Training_Accuracy_Before')\n",
    "plt.plot(Training_Accuracy_After, label = 'Training_Accuracy_After')\n",
    "plt.xticks(range(len(Models)), Models, Rotation = 45)\n",
    "plt.title('Training Accuracy Behaviour')\n",
    "plt.legend()\n",
    "plt.show()"
   ]
  },
  {
   "cell_type": "code",
   "execution_count": 583,
   "metadata": {},
   "outputs": [
    {
     "data": {
      "image/png": "[encoded data removed]",
      "text/plain": [
       "<matplotlib.figure.Figure at 0x2a941193828>"
      ]
     },
     "metadata": {},
     "output_type": "display_data"
    }
   ],
   "source": [
    "plt.plot(Testing_Accuracy_Before, label = 'Testing_Accuracy_Before')\n",
    "plt.plot(Testing_Accuracy_After, label = 'Testing_Accuracy_After')\n",
    "plt.xticks(range(len(Models)), Models, Rotation = 45)\n",
    "plt.title('Testing Accuracy Behaviour')\n",
    "plt.legend()\n",
    "plt.show()"
   ]
  },
  {
   "cell_type": "raw",
   "metadata": {},
   "source": [
    "Above charts clearly shows that:\n",
    "    a) Linear Regression did the highest overfitting while training and performed worst on test set\n",
    "    b) Ridge didn't overfit the training data much, and hence performed good on test set\n",
    "    c) After getting important features from Lasso regression, we fitted the models, and Ridge performed well\n",
    "    d) Moreover, after removal of unnecessary feature:\n",
    "        i) 'Training_Accuracy_After' less overfitted the training data and hence it is lower that 'Testing_Accuracy_Before' \n",
    "                    (Can be seen in first chart)\n",
    "        ii) 'Testing_Accuracy_After' better predicted the testing data and hence it is more than 'Testing_Accuracy_Before'\n",
    "                    (Can be seen in Second chart)"
   ]
  }
 ],
 "metadata": {
  "kernelspec": {
   "display_name": "Python 3",
   "language": "python",
   "name": "python3"
  },
  "language_info": {
   "codemirror_mode": {
    "name": "ipython",
    "version": 3
   },
   "file_extension": ".py",
   "mimetype": "text/x-python",
   "name": "python",
   "nbconvert_exporter": "python",
   "pygments_lexer": "ipython3",
   "version": "3.6.3"
  }
 },
 "nbformat": 4,
 "nbformat_minor": 2
}
